{
 "cells": [
  {
   "cell_type": "markdown",
   "metadata": {},
   "source": [
    "### This notebook is the second step/final step toward predicting the event type\n",
    "\n",
    "\n",
    "\n",
    "__Main Steps__\n",
    "\n",
    "* _Libraries_: Run requirements.txt to install the required libraries if you haven't already. It is recommended to use a venv.\n",
    "\n",
    "* _Run first step to generate data_: Run 1_CreateInput.ipynb file to generate the input for our prediction model.\n",
    "\n",
    "* _Vectorize the data_: The csv data is encoded into vector format.\n",
    "\n",
    "* _LSTM Model_: The LSTM model is used to perform prediction."
   ]
  },
  {
   "cell_type": "code",
   "execution_count": null,
   "metadata": {
    "execution": {
     "iopub.execute_input": "2025-04-27T01:26:09.200785Z",
     "iopub.status.busy": "2025-04-27T01:26:09.200219Z",
     "iopub.status.idle": "2025-04-27T01:26:15.264963Z",
     "shell.execute_reply": "2025-04-27T01:26:15.264286Z"
    }
   },
   "outputs": [],
   "source": [
    "from common import cities, city_keys, years, months\n",
    "from sklearn.preprocessing import LabelEncoder, StandardScaler\n",
    "from sklearn.metrics import classification_report\n",
    "from tensorflow.keras.models import Sequential, load_model\n",
    "from tensorflow.keras.utils import to_categorical\n",
    "from tensorflow.keras.layers import LSTM, Dense\n",
    "import pandas as pd\n",
    "import numpy as np\n",
    "import os"
   ]
  },
  {
   "cell_type": "code",
   "execution_count": null,
   "metadata": {
    "execution": {
     "iopub.execute_input": "2025-04-27T01:26:15.268260Z",
     "iopub.status.busy": "2025-04-27T01:26:15.267836Z",
     "iopub.status.idle": "2025-04-27T01:26:15.271268Z",
     "shell.execute_reply": "2025-04-27T01:26:15.270784Z"
    }
   },
   "outputs": [],
   "source": [
    "print(cities, city_keys, years, months)"
   ]
  },
  {
   "cell_type": "code",
   "execution_count": 3,
   "metadata": {
    "execution": {
     "iopub.execute_input": "2025-04-27T01:26:15.273031Z",
     "iopub.status.busy": "2025-04-27T01:26:15.272837Z",
     "iopub.status.idle": "2025-04-27T01:26:15.277722Z",
     "shell.execute_reply": "2025-04-27T01:26:15.277247Z"
    }
   },
   "outputs": [],
   "source": [
    "def add_sincos_column(df, key, data):\n",
    "    df[f'{key}_sin'] = np.sin(2 * np.pi * data)\n",
    "    df[f'{key}_cos'] = np.cos(2 * np.pi * data)\n",
    "\n",
    "def parse_time(df: pd.DataFrame):\n",
    "    time_cols = ['StartTime', 'EndTime', 'Sunrise', 'Sunset']\n",
    "    for column in time_cols:\n",
    "        if column in df.columns:\n",
    "            if not np.issubdtype(df[column].dtype, np.datetime64):\n",
    "                df[column] = pd.to_datetime(df[column])\n",
    "        else:\n",
    "            continue\n",
    "\n",
    "        if 'Sun' not in column:\n",
    "            days = df[column].dt.day\n",
    "            add_sincos_column(df, f'{column}_day', (days / 31))\n",
    "\n",
    "            months = df[column].dt.month\n",
    "            add_sincos_column(df, f'{column}_month', (months / 12))\n",
    "\n",
    "            years = df[column].dt.year\n",
    "            df[f'{column}_year_norm'] = (years - years.min()) / (years.max() - years.min())\n",
    "        \n",
    "        seconds = df[column].dt.hour * 3600 + df[column].dt.minute * 60 + df[column].dt.second\n",
    "        add_sincos_column(df, f'{column}_seconds', (seconds / 86400))\n",
    "\n",
    "        df.drop(column, axis=1, inplace=True)\n",
    "    return df"
   ]
  },
  {
   "cell_type": "code",
   "execution_count": 4,
   "metadata": {
    "execution": {
     "iopub.execute_input": "2025-04-27T01:26:15.281100Z",
     "iopub.status.busy": "2025-04-27T01:26:15.280905Z",
     "iopub.status.idle": "2025-04-27T01:26:15.283825Z",
     "shell.execute_reply": "2025-04-27T01:26:15.283330Z"
    }
   },
   "outputs": [],
   "source": [
    "def split_data(df, train_fraction=0.8):\n",
    "    cut_index = int(len(df) * train_fraction)\n",
    "    df.sample(frac=1)\n",
    "    train_df = df.iloc[:cut_index].reset_index(drop=True)\n",
    "    val_df = df.iloc[cut_index:].reset_index(drop=True)\n",
    "    return train_df, val_df"
   ]
  },
  {
   "cell_type": "code",
   "execution_count": 5,
   "metadata": {
    "execution": {
     "iopub.execute_input": "2025-04-27T01:26:15.286530Z",
     "iopub.status.busy": "2025-04-27T01:26:15.286158Z",
     "iopub.status.idle": "2025-04-27T01:26:15.289403Z",
     "shell.execute_reply": "2025-04-27T01:26:15.288996Z"
    }
   },
   "outputs": [],
   "source": [
    "def feature_scaling(X_train, X_val):\n",
    "    scaler = StandardScaler()\n",
    "    X_train_scaled = scaler.fit_transform(X_train)\n",
    "    X_val_scaled = scaler.transform(X_val)\n",
    "    return X_train_scaled, X_val_scaled, scaler\n",
    "\n",
    "def encode_labels(y_train, y_val):\n",
    "    label_enc = LabelEncoder()\n",
    "    y_train_enc = label_enc.fit_transform(y_train)\n",
    "    y_val_enc = label_enc.transform(y_val)\n",
    "    y_train_cat = to_categorical(y_train_enc)\n",
    "    y_val_cat = to_categorical(y_val_enc)\n",
    "    return y_train_cat, y_val_cat, label_enc, y_train_enc, y_val_enc"
   ]
  },
  {
   "cell_type": "code",
   "execution_count": 6,
   "metadata": {
    "execution": {
     "iopub.execute_input": "2025-04-27T01:26:15.292158Z",
     "iopub.status.busy": "2025-04-27T01:26:15.291867Z",
     "iopub.status.idle": "2025-04-27T01:26:15.294880Z",
     "shell.execute_reply": "2025-04-27T01:26:15.294472Z"
    }
   },
   "outputs": [],
   "source": [
    "def create_sequences(X, y, seq_length):\n",
    "    sequences_X = []\n",
    "    sequences_y = []\n",
    "    for i in range(seq_length - 1, len(X)):\n",
    "        sequences_X.append(X[i - seq_length + 1: i + 1])\n",
    "        if y is not None:\n",
    "            sequences_y.append(y[i])\n",
    "    sequences_X = np.array(sequences_X)\n",
    "    sequences_y = np.array(sequences_y) if y is not None else None\n",
    "    return sequences_X, sequences_y"
   ]
  },
  {
   "cell_type": "code",
   "execution_count": 7,
   "metadata": {
    "execution": {
     "iopub.execute_input": "2025-04-27T01:26:15.297475Z",
     "iopub.status.busy": "2025-04-27T01:26:15.297275Z",
     "iopub.status.idle": "2025-04-27T01:26:15.301828Z",
     "shell.execute_reply": "2025-04-27T01:26:15.301437Z"
    }
   },
   "outputs": [],
   "source": [
    "def build_model(input_shape, num_classes):\n",
    "    model = Sequential()\n",
    "    model.add(LSTM(64, input_shape=input_shape))\n",
    "    model.add(Dense(num_classes, activation='softmax'))\n",
    "    model.compile(loss='categorical_crossentropy', optimizer='adam', metrics=['accuracy'])\n",
    "    return model\n",
    "\n",
    "def train_model(model, X_train, y_train, X_val, y_val, epochs=50, batch_size=64):\n",
    "    history = model.fit(X_train, y_train, epochs=epochs, batch_size=batch_size, \n",
    "                        validation_data=(X_val, y_val), verbose=1)\n",
    "    return history\n",
    "\n",
    "def save_model(model, file_path):\n",
    "    model.save(file_path)\n",
    "\n",
    "def load_saved_model(file_path):\n",
    "    return load_model(file_path)\n",
    "\n",
    "def evaluate_model(model, X_test, y_test_cat, y_test_enc, label_enc, file_name):\n",
    "    y_pred_probs = model.predict(X_test)\n",
    "    y_pred_classes = np.argmax(y_pred_probs, axis=1)\n",
    "    y_true_classes = y_test_enc[len(y_test_enc) - len(y_pred_classes):]  # align sizes if needed\n",
    "    with open(file_name, \"w\") as file:\n",
    "        file.write(classification_report(y_true_classes, y_pred_classes, labels=np.arange(len(label_enc.classes_)), target_names=label_enc.classes_.astype(str)))"
   ]
  },
  {
   "cell_type": "code",
   "execution_count": null,
   "metadata": {
    "execution": {
     "iopub.execute_input": "2025-04-27T01:26:15.304483Z",
     "iopub.status.busy": "2025-04-27T01:26:15.304280Z",
     "iopub.status.idle": "2025-04-27T01:26:51.090355Z",
     "shell.execute_reply": "2025-04-27T01:26:51.089308Z"
    }
   },
   "outputs": [],
   "source": [
    "for path in ['data/output', 'data/print']:\n",
    "    if not os.path.exists(path):\n",
    "        os.makedirs(path)\n",
    "\n",
    "for city in city_keys:\n",
    "    file_path = f'data/input/{city}_{years[0]}{months[0]}01_{years[-1]}{months[-1]}01.csv'\n",
    "    df = pd.read_csv(file_path)\n",
    "    df = parse_time(df)\n",
    "    train_df, val_df = split_data(df)\n",
    "    X_train_df = train_df.drop('Type', axis=1)\n",
    "    y_train_series = train_df['Type']\n",
    "    X_val_df = val_df.drop('Type', axis=1)\n",
    "    y_val_series = val_df['Type']\n",
    "    X_train_scaled, X_val_scaled, scaler = feature_scaling(X_train_df.values, X_val_df.values)\n",
    "    y_train_cat, y_val_cat, label_enc, y_train_enc, y_val_enc = encode_labels(y_train_series.values, y_val_series.values)\n",
    "    \n",
    "    seq_length = 10\n",
    "    X_train_seq, y_train_seq = create_sequences(X_train_scaled, y_train_cat, seq_length)\n",
    "    X_val_seq, y_val_seq = create_sequences(X_val_scaled, y_val_cat, seq_length)\n",
    "    \n",
    "    model = build_model(input_shape=(seq_length, X_train_seq.shape[2]), num_classes=y_train_cat.shape[1])\n",
    "    train_model(model, X_train_seq, y_train_seq, X_val_seq, y_val_seq, epochs=50, batch_size=64)\n",
    "    model_path = f\"data/output/{city}_{years[0]}{months[0]}01_{years[-1]}{months[-1]}01.h5\"\n",
    "    print_path = f\"data/print/{city}_{years[0]}{months[0]}01_{years[-1]}{months[-1]}01.txt\"\n",
    "    save_model(model, model_path)\n",
    "    evaluate_model(model, X_val_seq, y_val_seq, y_val_enc, label_enc, print_path)"
   ]
  }
 ],
 "metadata": {
  "kernelspec": {
   "display_name": "Python 3",
   "language": "python",
   "name": "python3"
  },
  "language_info": {
   "codemirror_mode": {
    "name": "ipython",
    "version": 3
   },
   "file_extension": ".py",
   "mimetype": "text/x-python",
   "name": "python",
   "nbconvert_exporter": "python",
   "pygments_lexer": "ipython3",
   "version": "3.12.8"
  }
 },
 "nbformat": 4,
 "nbformat_minor": 2
}
